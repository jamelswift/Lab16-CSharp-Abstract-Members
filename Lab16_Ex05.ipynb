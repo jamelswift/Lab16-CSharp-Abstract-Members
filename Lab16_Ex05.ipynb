{
 "cells": [
  {
   "cell_type": "markdown",
   "metadata": {},
   "source": [
    "# Lab 16 Exercise 5"
   ]
  },
  {
   "cell_type": "markdown",
   "metadata": {},
   "source": [
    "## Abstract class"
   ]
  },
  {
   "cell_type": "markdown",
   "metadata": {},
   "source": [
    "1.สร้าง console application project\n",
    "\n",
    "```cmd\n",
    "dotnet new console --name Lab16_Ex05\n",
    "```"
   ]
  },
  {
   "cell_type": "markdown",
   "metadata": {},
   "source": [
    "2.เปลี่ยน code ให้เป็นดังต่อไปนี้\n",
    "\n",
    "```csharp\n",
    "var shapes = new Shape[3];\n",
    "shapes[0] = new Rectangle(10, 20);\n",
    "shapes[1] = new Triangle(10, 20);\n",
    "shapes[2] = new Circle(10);\n",
    "\n",
    "foreach (var shape in shapes)\n",
    "{\n",
    "    shape.CalculateArea();\n",
    "} \n",
    "abstract class Shape\n",
    "{\n",
    "    protected double Area;\n",
    "    public abstract void Draw();\n",
    "    public abstract void CalculateArea();\n",
    "}\n",
    "class Rectangle : Shape\n",
    "{\n",
    "    double width, height;\n",
    "    public override void Draw()\n",
    "    {\n",
    "        System.Console.WriteLine($\"Draw a rectangle with area {Area}\");\n",
    "    }\n",
    "    public Rectangle(double W, double H)\n",
    "    {\n",
    "        width = W;\n",
    "        height = H;\n",
    "    }\n",
    "    public override void CalculateArea()\n",
    "    {\n",
    "        Area = width * height;\n",
    "        System.Console.WriteLine($\"{this.GetType()} Area = {width:F5} x {height:F5} = {Area:F5} unit(s)\");\n",
    "    }\n",
    "}\n",
    "class Triangle : Shape\n",
    "{\n",
    "    double Base, Height;\n",
    "    public override void Draw()\n",
    "    {\n",
    "        System.Console.WriteLine(\"Draw a triangle\");\n",
    "    }\n",
    "    public Triangle(double B, double H)\n",
    "    {\n",
    "        Base = B;\n",
    "        Height = H;\n",
    "    }\n",
    "    public override void CalculateArea()\n",
    "    {\n",
    "        Area = Base * Height * 0.5;\n",
    "        System.Console.WriteLine($\"{this.GetType()} Area = {Base:F5} x {Height:F5} x 1/2  = {Area:F5} unit(s)\");\n",
    "    }\n",
    "}\n",
    "class Circle : Shape\n",
    "{\n",
    "    double Radius;\n",
    "    public override void Draw()\n",
    "    {\n",
    "        System.Console.WriteLine(\"Draw a circle\");\n",
    "    }\n",
    "    public Circle(double R)\n",
    "    {\n",
    "        Radius = R;\n",
    "    }\n",
    "    public override void CalculateArea()\n",
    "    {\n",
    "        Area = Math.PI * Radius * Radius;\n",
    "        System.Console.WriteLine($\"{this.GetType()} Area = {Math.PI:F5} x {Radius} ^2  = {Area:F5} unit(s)\");\n",
    "    }\n",
    "}\n",
    "```"
   ]
  },
  {
   "cell_type": "markdown",
   "metadata": {},
   "source": [
    "3.Build project โดยการใช้คำสั่ง\n",
    "\n",
    "```cmd\n",
    "dotnet build  Lab16_Ex05\n",
    "```\n",
    "\n",
    "ถ้ามีที่ผิดพลาดในโปรแกรม ให้แก้ไขให้ถูกต้อง"
   ]
  },
  {
   "cell_type": "markdown",
   "metadata": {},
   "source": [
    "4.บันทึกผลที่ได้จากการรันคำสั่งในข้อ 3"
   ]
  },
  {
   "attachments": {
    "image.png": {
     "image/png": "[encoded data removed]"
    }
   },
   "cell_type": "markdown",
   "metadata": {},
   "source": [
    "![image.png](attachment:image.png)"
   ]
  },
  {
   "cell_type": "markdown",
   "metadata": {},
   "source": [
    "5.Run project โดยการใช้คำสั่ง\n",
    "\n",
    "```cmd\n",
    "dotnet run --project Lab16_Ex05\n",
    "```"
   ]
  },
  {
   "cell_type": "markdown",
   "metadata": {},
   "source": [
    "6.บันทึกผลที่ได้จากการรันคำสั่งในข้อ 5"
   ]
  },
  {
   "attachments": {
    "image.png": {
     "image/png": "[encoded data removed]"
    }
   },
   "cell_type": "markdown",
   "metadata": {},
   "source": [
    "![image.png](attachment:image.png)"
   ]
  },
  {
   "cell_type": "markdown",
   "metadata": {},
   "source": [
    "7.อธิบายสิ่งที่พบในการทดลอง"
   ]
  },
  {
   "cell_type": "markdown",
   "metadata": {},
   "source": [
    "สรุป:\n",
    "1. ใช้ abstract class และ polymorphism เพื่อสร้างโปรแกรมที่ยืดหยุ่นและสามารถคำนวณพื้นที่ของรูปร่างต่างๆ ได้โดยไม่ต้องรู้ล่วงหน้าว่ารูปร่างนั้นๆ คืออะไร.\n",
    "2. การใช้ abstract methods และ method overriding ทำให้โปรแกรมสามารถคำนวณพื้นที่ที่แตกต่างกันในแต่ละคลาส (เช่น รูปสี่เหลี่ยม, สามเหลี่ยม, และวงกลม) ได้อย่างถูกต้อง."
   ]
  }
 ],
 "metadata": {
  "kernelspec": {
   "display_name": ".NET (C#)",
   "language": "C#",
   "name": ".net-csharp"
  },
  "polyglot_notebook": {
   "kernelInfo": {
    "defaultKernelName": "csharp",
    "items": [
     {
      "aliases": [],
      "languageName": "csharp",
      "name": "csharp"
     }
    ]
   }
  }
 },
 "nbformat": 4,
 "nbformat_minor": 2
}
